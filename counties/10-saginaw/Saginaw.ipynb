{
 "cells": [
  {
   "cell_type": "code",
   "execution_count": 8,
   "metadata": {},
   "outputs": [
    {
     "name": "stdout",
     "output_type": "stream",
     "text": [
      "The autoreload extension is already loaded. To reload it, use:\n",
      "  %reload_ext autoreload\n"
     ]
    }
   ],
   "source": [
    "%load_ext autoreload\n",
    "%autoreload 2\n",
    "%matplotlib inline\n",
    "%config InlineBackend.figure_format = 'retina'"
   ]
  },
  {
   "cell_type": "code",
   "execution_count": 9,
   "metadata": {},
   "outputs": [],
   "source": [
    "import numpy as np\n",
    "import matplotlib.pyplot as plt\n",
    "import pandas as pd"
   ]
  },
  {
   "cell_type": "code",
   "execution_count": 17,
   "metadata": {},
   "outputs": [],
   "source": [
    "saginaw_president = pd.read_csv('./saginaw-president.txt')\n",
    "saginaw_straight_party = pd.read_csv('./saginaw-straight-party.txt')"
   ]
  },
  {
   "cell_type": "code",
   "execution_count": 21,
   "metadata": {},
   "outputs": [],
   "source": [
    "saginaw_straight_party['sp_total'] = (\n",
    "    saginaw_straight_party['dem'] +\n",
    "    saginaw_straight_party['rep'] +\n",
    "    saginaw_straight_party['lib'] +\n",
    "    saginaw_straight_party['ust'] +\n",
    "    saginaw_straight_party['wcp'] +\n",
    "    saginaw_straight_party['grn'] +\n",
    "    saginaw_straight_party['nlp']\n",
    ")\n",
    "\n",
    "saginaw_straight_party['percentage_republican'] = saginaw_straight_party['rep'] / saginaw_straight_party['sp_total']"
   ]
  },
  {
   "cell_type": "code",
   "execution_count": 24,
   "metadata": {},
   "outputs": [
    {
     "data": {
      "text/html": [
       "<div>\n",
       "<style scoped>\n",
       "    .dataframe tbody tr th:only-of-type {\n",
       "        vertical-align: middle;\n",
       "    }\n",
       "\n",
       "    .dataframe tbody tr th {\n",
       "        vertical-align: top;\n",
       "    }\n",
       "\n",
       "    .dataframe thead th {\n",
       "        text-align: right;\n",
       "    }\n",
       "</style>\n",
       "<table border=\"1\" class=\"dataframe\">\n",
       "  <thead>\n",
       "    <tr style=\"text-align: right;\">\n",
       "      <th></th>\n",
       "      <th>precinct_name</th>\n",
       "      <th>registered</th>\n",
       "      <th>votes_cast</th>\n",
       "      <th>turnout</th>\n",
       "      <th>biden</th>\n",
       "      <th>trump</th>\n",
       "      <th>jorgensen</th>\n",
       "      <th>blankenship</th>\n",
       "      <th>hawkins</th>\n",
       "      <th>de_la_fuente</th>\n",
       "      <th>w1</th>\n",
       "      <th>total_votes</th>\n",
       "    </tr>\n",
       "  </thead>\n",
       "  <tbody>\n",
       "    <tr>\n",
       "      <th>0</th>\n",
       "      <td>Albee Township Precinct 1</td>\n",
       "      <td>1662</td>\n",
       "      <td>1121</td>\n",
       "      <td>67.45%</td>\n",
       "      <td>393</td>\n",
       "      <td>707</td>\n",
       "      <td>13</td>\n",
       "      <td>0</td>\n",
       "      <td>1</td>\n",
       "      <td>1</td>\n",
       "      <td>0</td>\n",
       "      <td>1115</td>\n",
       "    </tr>\n",
       "    <tr>\n",
       "      <th>1</th>\n",
       "      <td>Birch Run Township Precinct 1</td>\n",
       "      <td>2077</td>\n",
       "      <td>1509</td>\n",
       "      <td>72.65%</td>\n",
       "      <td>537</td>\n",
       "      <td>942</td>\n",
       "      <td>17</td>\n",
       "      <td>3</td>\n",
       "      <td>2</td>\n",
       "      <td>1</td>\n",
       "      <td>2</td>\n",
       "      <td>1504</td>\n",
       "    </tr>\n",
       "    <tr>\n",
       "      <th>2</th>\n",
       "      <td>Birch Run Township Precinct 2</td>\n",
       "      <td>1240</td>\n",
       "      <td>834</td>\n",
       "      <td>67.26%</td>\n",
       "      <td>359</td>\n",
       "      <td>461</td>\n",
       "      <td>5</td>\n",
       "      <td>1</td>\n",
       "      <td>6</td>\n",
       "      <td>0</td>\n",
       "      <td>0</td>\n",
       "      <td>832</td>\n",
       "    </tr>\n",
       "    <tr>\n",
       "      <th>3</th>\n",
       "      <td>Birch Run Township Precinct 3</td>\n",
       "      <td>1557</td>\n",
       "      <td>1296</td>\n",
       "      <td>83.24%</td>\n",
       "      <td>347</td>\n",
       "      <td>918</td>\n",
       "      <td>24</td>\n",
       "      <td>1</td>\n",
       "      <td>3</td>\n",
       "      <td>0</td>\n",
       "      <td>2</td>\n",
       "      <td>1295</td>\n",
       "    </tr>\n",
       "    <tr>\n",
       "      <th>4</th>\n",
       "      <td>Blumfield Township Precinct 1</td>\n",
       "      <td>1593</td>\n",
       "      <td>1318</td>\n",
       "      <td>82.74%</td>\n",
       "      <td>282</td>\n",
       "      <td>1013</td>\n",
       "      <td>10</td>\n",
       "      <td>0</td>\n",
       "      <td>3</td>\n",
       "      <td>0</td>\n",
       "      <td>2</td>\n",
       "      <td>1310</td>\n",
       "    </tr>\n",
       "    <tr>\n",
       "      <th>...</th>\n",
       "      <td>...</td>\n",
       "      <td>...</td>\n",
       "      <td>...</td>\n",
       "      <td>...</td>\n",
       "      <td>...</td>\n",
       "      <td>...</td>\n",
       "      <td>...</td>\n",
       "      <td>...</td>\n",
       "      <td>...</td>\n",
       "      <td>...</td>\n",
       "      <td>...</td>\n",
       "      <td>...</td>\n",
       "    </tr>\n",
       "    <tr>\n",
       "      <th>80</th>\n",
       "      <td>Tittabawassee Township Precinct 1</td>\n",
       "      <td>2212</td>\n",
       "      <td>1741</td>\n",
       "      <td>78.71%</td>\n",
       "      <td>645</td>\n",
       "      <td>1053</td>\n",
       "      <td>20</td>\n",
       "      <td>3</td>\n",
       "      <td>4</td>\n",
       "      <td>1</td>\n",
       "      <td>2</td>\n",
       "      <td>1728</td>\n",
       "    </tr>\n",
       "    <tr>\n",
       "      <th>81</th>\n",
       "      <td>Tittabawassee Township Precinct 2</td>\n",
       "      <td>1753</td>\n",
       "      <td>1425</td>\n",
       "      <td>81.29%</td>\n",
       "      <td>501</td>\n",
       "      <td>892</td>\n",
       "      <td>16</td>\n",
       "      <td>2</td>\n",
       "      <td>3</td>\n",
       "      <td>0</td>\n",
       "      <td>2</td>\n",
       "      <td>1416</td>\n",
       "    </tr>\n",
       "    <tr>\n",
       "      <th>82</th>\n",
       "      <td>Tittabawassee Township Precinct 3</td>\n",
       "      <td>1298</td>\n",
       "      <td>996</td>\n",
       "      <td>76.73%</td>\n",
       "      <td>308</td>\n",
       "      <td>665</td>\n",
       "      <td>11</td>\n",
       "      <td>3</td>\n",
       "      <td>3</td>\n",
       "      <td>0</td>\n",
       "      <td>1</td>\n",
       "      <td>991</td>\n",
       "    </tr>\n",
       "    <tr>\n",
       "      <th>83</th>\n",
       "      <td>Tittabawassee Township Precinct 4</td>\n",
       "      <td>1912</td>\n",
       "      <td>1530</td>\n",
       "      <td>80.02%</td>\n",
       "      <td>556</td>\n",
       "      <td>946</td>\n",
       "      <td>14</td>\n",
       "      <td>0</td>\n",
       "      <td>3</td>\n",
       "      <td>1</td>\n",
       "      <td>3</td>\n",
       "      <td>1523</td>\n",
       "    </tr>\n",
       "    <tr>\n",
       "      <th>84</th>\n",
       "      <td>Zilwaukee Township Precinct 1</td>\n",
       "      <td>54</td>\n",
       "      <td>43</td>\n",
       "      <td>79.63%</td>\n",
       "      <td>13</td>\n",
       "      <td>30</td>\n",
       "      <td>0</td>\n",
       "      <td>0</td>\n",
       "      <td>0</td>\n",
       "      <td>0</td>\n",
       "      <td>0</td>\n",
       "      <td>43</td>\n",
       "    </tr>\n",
       "  </tbody>\n",
       "</table>\n",
       "<p>85 rows × 12 columns</p>\n",
       "</div>"
      ],
      "text/plain": [
       "                        precinct_name  registered  votes_cast turnout  biden  \\\n",
       "0           Albee Township Precinct 1        1662        1121  67.45%    393   \n",
       "1       Birch Run Township Precinct 1        2077        1509  72.65%    537   \n",
       "2       Birch Run Township Precinct 2        1240         834  67.26%    359   \n",
       "3       Birch Run Township Precinct 3        1557        1296  83.24%    347   \n",
       "4       Blumfield Township Precinct 1        1593        1318  82.74%    282   \n",
       "..                                ...         ...         ...     ...    ...   \n",
       "80  Tittabawassee Township Precinct 1        2212        1741  78.71%    645   \n",
       "81  Tittabawassee Township Precinct 2        1753        1425  81.29%    501   \n",
       "82  Tittabawassee Township Precinct 3        1298         996  76.73%    308   \n",
       "83  Tittabawassee Township Precinct 4        1912        1530  80.02%    556   \n",
       "84      Zilwaukee Township Precinct 1          54          43  79.63%     13   \n",
       "\n",
       "    trump  jorgensen  blankenship  hawkins  de_la_fuente  w1  total_votes  \n",
       "0     707         13            0        1             1   0         1115  \n",
       "1     942         17            3        2             1   2         1504  \n",
       "2     461          5            1        6             0   0          832  \n",
       "3     918         24            1        3             0   2         1295  \n",
       "4    1013         10            0        3             0   2         1310  \n",
       "..    ...        ...          ...      ...           ...  ..          ...  \n",
       "80   1053         20            3        4             1   2         1728  \n",
       "81    892         16            2        3             0   2         1416  \n",
       "82    665         11            3        3             0   1          991  \n",
       "83    946         14            0        3             1   3         1523  \n",
       "84     30          0            0        0             0   0           43  \n",
       "\n",
       "[85 rows x 12 columns]"
      ]
     },
     "execution_count": 24,
     "metadata": {},
     "output_type": "execute_result"
    }
   ],
   "source": [
    "saginaw_president"
   ]
  },
  {
   "cell_type": "code",
   "execution_count": 25,
   "metadata": {},
   "outputs": [],
   "source": [
    "saginaw_president['total_votes'] = (\n",
    "    saginaw_president['biden'] +\n",
    "    saginaw_president['trump'] +\n",
    "    saginaw_president['jorgensen'] +\n",
    "    saginaw_president['blankenship'] +\n",
    "    saginaw_president['hawkins'] +\n",
    "    saginaw_president['de_la_fuente'] +\n",
    "    saginaw_president['w1']\n",
    ")\n",
    "\n",
    "saginaw_president['trump_vote_percentage'] = saginaw_president['trump'] / saginaw_president['total_votes']"
   ]
  },
  {
   "cell_type": "code",
   "execution_count": 27,
   "metadata": {},
   "outputs": [],
   "source": [
    "# Axes\n",
    "straight_republican_percentage = saginaw_straight_party['percentage_republican'].tolist()\n",
    "trump_relative_performance = (saginaw_president['trump_vote_percentage'] - saginaw_straight_party['percentage_republican']).tolist()"
   ]
  },
  {
   "cell_type": "code",
   "execution_count": 59,
   "metadata": {},
   "outputs": [
    {
     "data": {
      "image/png": "[encoded data removed]",
      "text/plain": [
       "<Figure size 432x288 with 1 Axes>"
      ]
     },
     "metadata": {
      "image/png": {
       "height": 248,
       "width": 386
      },
      "needs_background": "light"
     },
     "output_type": "display_data"
    }
   ],
   "source": [
    "plt.scatter(\n",
    "    straight_republican_percentage,\n",
    "    trump_relative_performance\n",
    ")\n",
    "\n",
    "plt.axvline(x=0.2, color='red')\n",
    "\n",
    "plt.show()"
   ]
  },
  {
   "cell_type": "code",
   "execution_count": null,
   "metadata": {},
   "outputs": [],
   "source": []
  },
  {
   "cell_type": "code",
   "execution_count": null,
   "metadata": {},
   "outputs": [],
   "source": []
  },
  {
   "cell_type": "code",
   "execution_count": null,
   "metadata": {},
   "outputs": [],
   "source": []
  },
  {
   "cell_type": "code",
   "execution_count": null,
   "metadata": {},
   "outputs": [],
   "source": []
  },
  {
   "cell_type": "code",
   "execution_count": null,
   "metadata": {},
   "outputs": [],
   "source": []
  },
  {
   "cell_type": "code",
   "execution_count": null,
   "metadata": {},
   "outputs": [],
   "source": []
  },
  {
   "cell_type": "code",
   "execution_count": null,
   "metadata": {},
   "outputs": [],
   "source": []
  },
  {
   "cell_type": "code",
   "execution_count": null,
   "metadata": {},
   "outputs": [],
   "source": []
  },
  {
   "cell_type": "code",
   "execution_count": null,
   "metadata": {},
   "outputs": [],
   "source": []
  },
  {
   "cell_type": "code",
   "execution_count": null,
   "metadata": {},
   "outputs": [],
   "source": []
  },
  {
   "cell_type": "code",
   "execution_count": null,
   "metadata": {},
   "outputs": [],
   "source": []
  },
  {
   "cell_type": "code",
   "execution_count": null,
   "metadata": {},
   "outputs": [],
   "source": []
  },
  {
   "cell_type": "code",
   "execution_count": null,
   "metadata": {},
   "outputs": [],
   "source": []
  },
  {
   "cell_type": "code",
   "execution_count": null,
   "metadata": {},
   "outputs": [],
   "source": []
  },
  {
   "cell_type": "code",
   "execution_count": null,
   "metadata": {},
   "outputs": [],
   "source": []
  }
 ],
 "metadata": {
  "kernelspec": {
   "display_name": "Python 3",
   "language": "python",
   "name": "python3"
  },
  "language_info": {
   "codemirror_mode": {
    "name": "ipython",
    "version": 3
   },
   "file_extension": ".py",
   "mimetype": "text/x-python",
   "name": "python",
   "nbconvert_exporter": "python",
   "pygments_lexer": "ipython3",
   "version": "3.7.2"
  }
 },
 "nbformat": 4,
 "nbformat_minor": 2
}
