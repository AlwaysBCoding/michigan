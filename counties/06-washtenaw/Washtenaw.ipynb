{
 "cells": [
  {
   "cell_type": "code",
   "execution_count": 2,
   "metadata": {},
   "outputs": [],
   "source": [
    "%load_ext autoreload\n",
    "%autoreload 2\n",
    "%matplotlib inline\n",
    "%config InlineBackend.figure_format = 'retina'"
   ]
  },
  {
   "cell_type": "code",
   "execution_count": 3,
   "metadata": {},
   "outputs": [],
   "source": [
    "import numpy as np\n",
    "import matplotlib.pyplot as plt\n",
    "import pandas as pd"
   ]
  },
  {
   "cell_type": "code",
   "execution_count": 4,
   "metadata": {},
   "outputs": [],
   "source": [
    "washtenaw_president = pd.read_csv('./washtenaw-president.txt')\n",
    "washtenaw_straight_party = pd.read_csv('./washtenaw-straight-party.txt')"
   ]
  },
  {
   "cell_type": "code",
   "execution_count": 5,
   "metadata": {},
   "outputs": [
    {
     "data": {
      "text/html": [
       "<div>\n",
       "<style scoped>\n",
       "    .dataframe tbody tr th:only-of-type {\n",
       "        vertical-align: middle;\n",
       "    }\n",
       "\n",
       "    .dataframe tbody tr th {\n",
       "        vertical-align: top;\n",
       "    }\n",
       "\n",
       "    .dataframe thead th {\n",
       "        text-align: right;\n",
       "    }\n",
       "</style>\n",
       "<table border=\"1\" class=\"dataframe\">\n",
       "  <thead>\n",
       "    <tr style=\"text-align: right;\">\n",
       "      <th></th>\n",
       "      <th>precinct_name</th>\n",
       "      <th>biden</th>\n",
       "      <th>trump</th>\n",
       "      <th>jorgensen</th>\n",
       "      <th>blankenship</th>\n",
       "      <th>hawkins</th>\n",
       "      <th>de_la_fuente</th>\n",
       "      <th>rej</th>\n",
       "      <th>una</th>\n",
       "    </tr>\n",
       "  </thead>\n",
       "  <tbody>\n",
       "    <tr>\n",
       "      <th>0</th>\n",
       "      <td>City of Ann Arbor. Ward 1. Precinct 1</td>\n",
       "      <td>829</td>\n",
       "      <td>102</td>\n",
       "      <td>3</td>\n",
       "      <td>0</td>\n",
       "      <td>1</td>\n",
       "      <td>0</td>\n",
       "      <td>0</td>\n",
       "      <td>1</td>\n",
       "    </tr>\n",
       "    <tr>\n",
       "      <th>1</th>\n",
       "      <td>City of Ann Arbor. Ward 1. Precinct 2</td>\n",
       "      <td>984</td>\n",
       "      <td>118</td>\n",
       "      <td>9</td>\n",
       "      <td>2</td>\n",
       "      <td>3</td>\n",
       "      <td>0</td>\n",
       "      <td>0</td>\n",
       "      <td>3</td>\n",
       "    </tr>\n",
       "    <tr>\n",
       "      <th>2</th>\n",
       "      <td>City of Ann Arbor. Ward 1. Precinct 3</td>\n",
       "      <td>648</td>\n",
       "      <td>42</td>\n",
       "      <td>1</td>\n",
       "      <td>0</td>\n",
       "      <td>2</td>\n",
       "      <td>0</td>\n",
       "      <td>0</td>\n",
       "      <td>4</td>\n",
       "    </tr>\n",
       "    <tr>\n",
       "      <th>3</th>\n",
       "      <td>City of Ann Arbor. Ward 1. Precinct 4</td>\n",
       "      <td>587</td>\n",
       "      <td>48</td>\n",
       "      <td>2</td>\n",
       "      <td>0</td>\n",
       "      <td>2</td>\n",
       "      <td>0</td>\n",
       "      <td>0</td>\n",
       "      <td>2</td>\n",
       "    </tr>\n",
       "    <tr>\n",
       "      <th>4</th>\n",
       "      <td>City of Ann Arbor. Ward 1. Precinct 5</td>\n",
       "      <td>1057</td>\n",
       "      <td>93</td>\n",
       "      <td>8</td>\n",
       "      <td>0</td>\n",
       "      <td>4</td>\n",
       "      <td>0</td>\n",
       "      <td>0</td>\n",
       "      <td>3</td>\n",
       "    </tr>\n",
       "    <tr>\n",
       "      <th>...</th>\n",
       "      <td>...</td>\n",
       "      <td>...</td>\n",
       "      <td>...</td>\n",
       "      <td>...</td>\n",
       "      <td>...</td>\n",
       "      <td>...</td>\n",
       "      <td>...</td>\n",
       "      <td>...</td>\n",
       "      <td>...</td>\n",
       "    </tr>\n",
       "    <tr>\n",
       "      <th>145</th>\n",
       "      <td>Ypsilanti Township. Precinct 15</td>\n",
       "      <td>959</td>\n",
       "      <td>476</td>\n",
       "      <td>11</td>\n",
       "      <td>4</td>\n",
       "      <td>5</td>\n",
       "      <td>2</td>\n",
       "      <td>0</td>\n",
       "      <td>5</td>\n",
       "    </tr>\n",
       "    <tr>\n",
       "      <th>146</th>\n",
       "      <td>Ypsilanti Township. Precinct 17</td>\n",
       "      <td>1736</td>\n",
       "      <td>528</td>\n",
       "      <td>19</td>\n",
       "      <td>2</td>\n",
       "      <td>5</td>\n",
       "      <td>0</td>\n",
       "      <td>0</td>\n",
       "      <td>7</td>\n",
       "    </tr>\n",
       "    <tr>\n",
       "      <th>147</th>\n",
       "      <td>Ypsilanti Township. Precinct 18</td>\n",
       "      <td>1704</td>\n",
       "      <td>628</td>\n",
       "      <td>32</td>\n",
       "      <td>4</td>\n",
       "      <td>11</td>\n",
       "      <td>0</td>\n",
       "      <td>0</td>\n",
       "      <td>7</td>\n",
       "    </tr>\n",
       "    <tr>\n",
       "      <th>148</th>\n",
       "      <td>Ypsilanti Township. Precinct 19</td>\n",
       "      <td>1744</td>\n",
       "      <td>668</td>\n",
       "      <td>37</td>\n",
       "      <td>0</td>\n",
       "      <td>11</td>\n",
       "      <td>0</td>\n",
       "      <td>0</td>\n",
       "      <td>10</td>\n",
       "    </tr>\n",
       "    <tr>\n",
       "      <th>149</th>\n",
       "      <td>Ypsilanti Township. Precinct 20</td>\n",
       "      <td>1183</td>\n",
       "      <td>575</td>\n",
       "      <td>22</td>\n",
       "      <td>2</td>\n",
       "      <td>8</td>\n",
       "      <td>3</td>\n",
       "      <td>0</td>\n",
       "      <td>5</td>\n",
       "    </tr>\n",
       "  </tbody>\n",
       "</table>\n",
       "<p>150 rows × 9 columns</p>\n",
       "</div>"
      ],
      "text/plain": [
       "                             precinct_name  biden  trump  jorgensen  \\\n",
       "0    City of Ann Arbor. Ward 1. Precinct 1    829    102          3   \n",
       "1    City of Ann Arbor. Ward 1. Precinct 2    984    118          9   \n",
       "2    City of Ann Arbor. Ward 1. Precinct 3    648     42          1   \n",
       "3    City of Ann Arbor. Ward 1. Precinct 4    587     48          2   \n",
       "4    City of Ann Arbor. Ward 1. Precinct 5   1057     93          8   \n",
       "..                                     ...    ...    ...        ...   \n",
       "145        Ypsilanti Township. Precinct 15    959    476         11   \n",
       "146        Ypsilanti Township. Precinct 17   1736    528         19   \n",
       "147        Ypsilanti Township. Precinct 18   1704    628         32   \n",
       "148        Ypsilanti Township. Precinct 19   1744    668         37   \n",
       "149        Ypsilanti Township. Precinct 20   1183    575         22   \n",
       "\n",
       "     blankenship  hawkins  de_la_fuente  rej  una  \n",
       "0              0        1             0    0    1  \n",
       "1              2        3             0    0    3  \n",
       "2              0        2             0    0    4  \n",
       "3              0        2             0    0    2  \n",
       "4              0        4             0    0    3  \n",
       "..           ...      ...           ...  ...  ...  \n",
       "145            4        5             2    0    5  \n",
       "146            2        5             0    0    7  \n",
       "147            4       11             0    0    7  \n",
       "148            0       11             0    0   10  \n",
       "149            2        8             3    0    5  \n",
       "\n",
       "[150 rows x 9 columns]"
      ]
     },
     "execution_count": 5,
     "metadata": {},
     "output_type": "execute_result"
    }
   ],
   "source": [
    "washtenaw_president"
   ]
  },
  {
   "cell_type": "code",
   "execution_count": 6,
   "metadata": {},
   "outputs": [],
   "source": [
    "washtenaw_straight_party['sp_total'] = (\n",
    "    washtenaw_straight_party['dem'] +\n",
    "    washtenaw_straight_party['rep'] +\n",
    "    washtenaw_straight_party['lib'] +\n",
    "    washtenaw_straight_party['ust'] +\n",
    "    washtenaw_straight_party['wcp'] +\n",
    "    washtenaw_straight_party['grn'] +\n",
    "    washtenaw_straight_party['nat']\n",
    ")"
   ]
  },
  {
   "cell_type": "code",
   "execution_count": 7,
   "metadata": {},
   "outputs": [],
   "source": [
    "washtenaw_straight_party['percentage_republican'] = washtenaw_straight_party['rep'] / washtenaw_straight_party['sp_total']"
   ]
  },
  {
   "cell_type": "code",
   "execution_count": 8,
   "metadata": {},
   "outputs": [],
   "source": [
    "washtenaw_president['total_votes'] = (\n",
    "    washtenaw_president['biden'] +\n",
    "    washtenaw_president['trump'] +\n",
    "    washtenaw_president['jorgensen'] +\n",
    "    washtenaw_president['blankenship'] +\n",
    "    washtenaw_president['hawkins'] +\n",
    "    washtenaw_president['de_la_fuente'] +\n",
    "    washtenaw_president['rej'] +\n",
    "    washtenaw_president['una']\n",
    ")\n",
    "\n",
    "washtenaw_president['trump_vote_percentage'] = washtenaw_president['trump'] / washtenaw_president['total_votes']"
   ]
  },
  {
   "cell_type": "code",
   "execution_count": 9,
   "metadata": {},
   "outputs": [],
   "source": [
    "# Axes\n",
    "straight_republican_percentages = washtenaw_straight_party['percentage_republican'].tolist()\n",
    "trump_relative_performance = (washtenaw_president['trump_vote_percentage'] - washtenaw_straight_party['percentage_republican']).tolist()"
   ]
  },
  {
   "cell_type": "code",
   "execution_count": 10,
   "metadata": {},
   "outputs": [
    {
     "data": {
      "image/png": "[encoded data removed]",
      "text/plain": [
       "<Figure size 432x288 with 1 Axes>"
      ]
     },
     "metadata": {
      "image/png": {
       "height": 250,
       "width": 393
      },
      "needs_background": "light"
     },
     "output_type": "display_data"
    }
   ],
   "source": [
    "plt.scatter(\n",
    "    straight_republican_percentages,\n",
    "    trump_relative_performance\n",
    ")\n",
    "\n",
    "plt.axvline(x=0.2, color='red')\n",
    "\n",
    "plt.show()"
   ]
  },
  {
   "cell_type": "code",
   "execution_count": null,
   "metadata": {},
   "outputs": [],
   "source": []
  },
  {
   "cell_type": "code",
   "execution_count": null,
   "metadata": {},
   "outputs": [],
   "source": []
  },
  {
   "cell_type": "code",
   "execution_count": null,
   "metadata": {},
   "outputs": [],
   "source": []
  }
 ],
 "metadata": {
  "kernelspec": {
   "display_name": "Python 3",
   "language": "python",
   "name": "python3"
  },
  "language_info": {
   "codemirror_mode": {
    "name": "ipython",
    "version": 3
   },
   "file_extension": ".py",
   "mimetype": "text/x-python",
   "name": "python",
   "nbconvert_exporter": "python",
   "pygments_lexer": "ipython3",
   "version": "3.7.2"
  }
 },
 "nbformat": 4,
 "nbformat_minor": 2
}
